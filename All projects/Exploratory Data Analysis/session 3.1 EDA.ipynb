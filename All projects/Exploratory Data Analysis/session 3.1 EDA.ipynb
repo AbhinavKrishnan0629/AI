{
 "cells": [
  {
   "cell_type": "code",
   "execution_count": 1,
   "id": "5f7e2b25",
   "metadata": {},
   "outputs": [],
   "source": [
    "import pandas as pd\n",
    "import numpy as np\n",
    "\n",
    "from sklearn.compose import ColumnTransformer\n",
    "from sklearn.preprocessing import OrdinalEncoder, OneHotEncoder, StandardScaler, MinMaxScaler\n",
    "import matplotlib.pyplot as plt\n",
    "import seaborn as sb"
   ]
  },
  {
   "cell_type": "code",
   "execution_count": 2,
   "id": "54394573",
   "metadata": {},
   "outputs": [],
   "source": [
    "file_url = \"A:/Programming/Python/NLP/Data files/EDA Session 3.1/flavors_of_cacao.csv\"\n",
    "df = pd.read_csv(file_url)"
   ]
  },
  {
   "cell_type": "code",
   "execution_count": 3,
   "id": "f2c4774f",
   "metadata": {},
   "outputs": [
    {
     "data": {
      "text/html": [
       "<div>\n",
       "<style scoped>\n",
       "    .dataframe tbody tr th:only-of-type {\n",
       "        vertical-align: middle;\n",
       "    }\n",
       "\n",
       "    .dataframe tbody tr th {\n",
       "        vertical-align: top;\n",
       "    }\n",
       "\n",
       "    .dataframe thead th {\n",
       "        text-align: right;\n",
       "    }\n",
       "</style>\n",
       "<table border=\"1\" class=\"dataframe\">\n",
       "  <thead>\n",
       "    <tr style=\"text-align: right;\">\n",
       "      <th></th>\n",
       "      <th>Company \\n(Maker-if known)</th>\n",
       "      <th>Specific Bean Origin\\nor Bar Name</th>\n",
       "      <th>REF</th>\n",
       "      <th>Review\\nDate</th>\n",
       "      <th>Cocoa\\nPercent</th>\n",
       "      <th>Company\\nLocation</th>\n",
       "      <th>Rating</th>\n",
       "      <th>Bean\\nType</th>\n",
       "      <th>Broad Bean\\nOrigin</th>\n",
       "    </tr>\n",
       "  </thead>\n",
       "  <tbody>\n",
       "    <tr>\n",
       "      <th>0</th>\n",
       "      <td>A. Morin</td>\n",
       "      <td>Agua Grande</td>\n",
       "      <td>1876</td>\n",
       "      <td>2016</td>\n",
       "      <td>63%</td>\n",
       "      <td>France</td>\n",
       "      <td>3.75</td>\n",
       "      <td></td>\n",
       "      <td>Sao Tome</td>\n",
       "    </tr>\n",
       "    <tr>\n",
       "      <th>1</th>\n",
       "      <td>A. Morin</td>\n",
       "      <td>Kpime</td>\n",
       "      <td>1676</td>\n",
       "      <td>2015</td>\n",
       "      <td>70%</td>\n",
       "      <td>France</td>\n",
       "      <td>2.75</td>\n",
       "      <td></td>\n",
       "      <td>Togo</td>\n",
       "    </tr>\n",
       "    <tr>\n",
       "      <th>2</th>\n",
       "      <td>A. Morin</td>\n",
       "      <td>Atsane</td>\n",
       "      <td>1676</td>\n",
       "      <td>2015</td>\n",
       "      <td>70%</td>\n",
       "      <td>France</td>\n",
       "      <td>3.00</td>\n",
       "      <td></td>\n",
       "      <td>Togo</td>\n",
       "    </tr>\n",
       "    <tr>\n",
       "      <th>3</th>\n",
       "      <td>A. Morin</td>\n",
       "      <td>Akata</td>\n",
       "      <td>1680</td>\n",
       "      <td>2015</td>\n",
       "      <td>70%</td>\n",
       "      <td>France</td>\n",
       "      <td>3.50</td>\n",
       "      <td></td>\n",
       "      <td>Togo</td>\n",
       "    </tr>\n",
       "    <tr>\n",
       "      <th>4</th>\n",
       "      <td>A. Morin</td>\n",
       "      <td>Quilla</td>\n",
       "      <td>1704</td>\n",
       "      <td>2015</td>\n",
       "      <td>70%</td>\n",
       "      <td>France</td>\n",
       "      <td>3.50</td>\n",
       "      <td></td>\n",
       "      <td>Peru</td>\n",
       "    </tr>\n",
       "  </tbody>\n",
       "</table>\n",
       "</div>"
      ],
      "text/plain": [
       "  Company \\n(Maker-if known) Specific Bean Origin\\nor Bar Name   REF  \\\n",
       "0                   A. Morin                       Agua Grande  1876   \n",
       "1                   A. Morin                             Kpime  1676   \n",
       "2                   A. Morin                            Atsane  1676   \n",
       "3                   A. Morin                             Akata  1680   \n",
       "4                   A. Morin                            Quilla  1704   \n",
       "\n",
       "   Review\\nDate Cocoa\\nPercent Company\\nLocation  Rating Bean\\nType  \\\n",
       "0          2016            63%            France    3.75              \n",
       "1          2015            70%            France    2.75              \n",
       "2          2015            70%            France    3.00              \n",
       "3          2015            70%            France    3.50              \n",
       "4          2015            70%            France    3.50              \n",
       "\n",
       "  Broad Bean\\nOrigin  \n",
       "0           Sao Tome  \n",
       "1               Togo  \n",
       "2               Togo  \n",
       "3               Togo  \n",
       "4               Peru  "
      ]
     },
     "execution_count": 3,
     "metadata": {},
     "output_type": "execute_result"
    }
   ],
   "source": [
    "df.head()"
   ]
  },
  {
   "cell_type": "code",
   "execution_count": 4,
   "id": "c7e67734",
   "metadata": {},
   "outputs": [
    {
     "name": "stdout",
     "output_type": "stream",
     "text": [
      "Company \n",
      "(Maker-if known)\n",
      "\n",
      "Specific Bean Origin\n",
      "or Bar Name\n",
      "\n",
      "REF\n",
      "\n",
      "Review\n",
      "Date\n",
      "\n",
      "Cocoa\n",
      "Percent\n",
      "\n",
      "Company\n",
      "Location\n",
      "\n",
      "Rating\n",
      "\n",
      "Bean\n",
      "Type\n",
      "\n",
      "Broad Bean\n",
      "Origin\n",
      "\n"
     ]
    }
   ],
   "source": [
    "for col in df.columns:\n",
    "    print(col+\"\\n\")"
   ]
  },
  {
   "cell_type": "code",
   "execution_count": 5,
   "id": "d9949243",
   "metadata": {},
   "outputs": [
    {
     "data": {
      "text/html": [
       "<div>\n",
       "<style scoped>\n",
       "    .dataframe tbody tr th:only-of-type {\n",
       "        vertical-align: middle;\n",
       "    }\n",
       "\n",
       "    .dataframe tbody tr th {\n",
       "        vertical-align: top;\n",
       "    }\n",
       "\n",
       "    .dataframe thead th {\n",
       "        text-align: right;\n",
       "    }\n",
       "</style>\n",
       "<table border=\"1\" class=\"dataframe\">\n",
       "  <thead>\n",
       "    <tr style=\"text-align: right;\">\n",
       "      <th></th>\n",
       "      <th>Company \\n(Maker-if known)</th>\n",
       "      <th>Specific Bean Origin\\nor Bar Name</th>\n",
       "      <th>REF</th>\n",
       "      <th>Review\\nDate</th>\n",
       "      <th>Cocoa\\nPercent</th>\n",
       "      <th>Company\\nLocation</th>\n",
       "      <th>Rating</th>\n",
       "      <th>Bean\\nType</th>\n",
       "      <th>Broad Bean\\nOrigin</th>\n",
       "    </tr>\n",
       "  </thead>\n",
       "  <tbody>\n",
       "    <tr>\n",
       "      <th>1785</th>\n",
       "      <td>Zotter</td>\n",
       "      <td>Huiwani Coop</td>\n",
       "      <td>879</td>\n",
       "      <td>2012</td>\n",
       "      <td>75%</td>\n",
       "      <td>Austria</td>\n",
       "      <td>3.00</td>\n",
       "      <td>Criollo, Trinitario</td>\n",
       "      <td>Papua New Guinea</td>\n",
       "    </tr>\n",
       "    <tr>\n",
       "      <th>1786</th>\n",
       "      <td>Zotter</td>\n",
       "      <td>El Ceibo Coop</td>\n",
       "      <td>879</td>\n",
       "      <td>2012</td>\n",
       "      <td>90%</td>\n",
       "      <td>Austria</td>\n",
       "      <td>3.25</td>\n",
       "      <td></td>\n",
       "      <td>Bolivia</td>\n",
       "    </tr>\n",
       "    <tr>\n",
       "      <th>1787</th>\n",
       "      <td>Zotter</td>\n",
       "      <td>Santo Domingo</td>\n",
       "      <td>879</td>\n",
       "      <td>2012</td>\n",
       "      <td>70%</td>\n",
       "      <td>Austria</td>\n",
       "      <td>3.75</td>\n",
       "      <td></td>\n",
       "      <td>Dominican Republic</td>\n",
       "    </tr>\n",
       "    <tr>\n",
       "      <th>1788</th>\n",
       "      <td>Zotter</td>\n",
       "      <td>Kongo, Highlands</td>\n",
       "      <td>883</td>\n",
       "      <td>2012</td>\n",
       "      <td>68%</td>\n",
       "      <td>Austria</td>\n",
       "      <td>3.25</td>\n",
       "      <td>Forastero</td>\n",
       "      <td>Congo</td>\n",
       "    </tr>\n",
       "    <tr>\n",
       "      <th>1789</th>\n",
       "      <td>Zotter</td>\n",
       "      <td>Indianer, Raw</td>\n",
       "      <td>883</td>\n",
       "      <td>2012</td>\n",
       "      <td>58%</td>\n",
       "      <td>Austria</td>\n",
       "      <td>3.50</td>\n",
       "      <td></td>\n",
       "      <td></td>\n",
       "    </tr>\n",
       "    <tr>\n",
       "      <th>1790</th>\n",
       "      <td>Zotter</td>\n",
       "      <td>Peru</td>\n",
       "      <td>647</td>\n",
       "      <td>2011</td>\n",
       "      <td>70%</td>\n",
       "      <td>Austria</td>\n",
       "      <td>3.75</td>\n",
       "      <td></td>\n",
       "      <td>Peru</td>\n",
       "    </tr>\n",
       "    <tr>\n",
       "      <th>1791</th>\n",
       "      <td>Zotter</td>\n",
       "      <td>Congo</td>\n",
       "      <td>749</td>\n",
       "      <td>2011</td>\n",
       "      <td>65%</td>\n",
       "      <td>Austria</td>\n",
       "      <td>3.00</td>\n",
       "      <td>Forastero</td>\n",
       "      <td>Congo</td>\n",
       "    </tr>\n",
       "    <tr>\n",
       "      <th>1792</th>\n",
       "      <td>Zotter</td>\n",
       "      <td>Kerala State</td>\n",
       "      <td>749</td>\n",
       "      <td>2011</td>\n",
       "      <td>65%</td>\n",
       "      <td>Austria</td>\n",
       "      <td>3.50</td>\n",
       "      <td>Forastero</td>\n",
       "      <td>India</td>\n",
       "    </tr>\n",
       "    <tr>\n",
       "      <th>1793</th>\n",
       "      <td>Zotter</td>\n",
       "      <td>Kerala State</td>\n",
       "      <td>781</td>\n",
       "      <td>2011</td>\n",
       "      <td>62%</td>\n",
       "      <td>Austria</td>\n",
       "      <td>3.25</td>\n",
       "      <td></td>\n",
       "      <td>India</td>\n",
       "    </tr>\n",
       "    <tr>\n",
       "      <th>1794</th>\n",
       "      <td>Zotter</td>\n",
       "      <td>Brazil, Mitzi Blue</td>\n",
       "      <td>486</td>\n",
       "      <td>2010</td>\n",
       "      <td>65%</td>\n",
       "      <td>Austria</td>\n",
       "      <td>3.00</td>\n",
       "      <td></td>\n",
       "      <td>Brazil</td>\n",
       "    </tr>\n",
       "  </tbody>\n",
       "</table>\n",
       "</div>"
      ],
      "text/plain": [
       "     Company \\n(Maker-if known) Specific Bean Origin\\nor Bar Name  REF  \\\n",
       "1785                     Zotter                      Huiwani Coop  879   \n",
       "1786                     Zotter                     El Ceibo Coop  879   \n",
       "1787                     Zotter                     Santo Domingo  879   \n",
       "1788                     Zotter                  Kongo, Highlands  883   \n",
       "1789                     Zotter                     Indianer, Raw  883   \n",
       "1790                     Zotter                              Peru  647   \n",
       "1791                     Zotter                             Congo  749   \n",
       "1792                     Zotter                      Kerala State  749   \n",
       "1793                     Zotter                      Kerala State  781   \n",
       "1794                     Zotter                Brazil, Mitzi Blue  486   \n",
       "\n",
       "      Review\\nDate Cocoa\\nPercent Company\\nLocation  Rating  \\\n",
       "1785          2012            75%           Austria    3.00   \n",
       "1786          2012            90%           Austria    3.25   \n",
       "1787          2012            70%           Austria    3.75   \n",
       "1788          2012            68%           Austria    3.25   \n",
       "1789          2012            58%           Austria    3.50   \n",
       "1790          2011            70%           Austria    3.75   \n",
       "1791          2011            65%           Austria    3.00   \n",
       "1792          2011            65%           Austria    3.50   \n",
       "1793          2011            62%           Austria    3.25   \n",
       "1794          2010            65%           Austria    3.00   \n",
       "\n",
       "               Bean\\nType  Broad Bean\\nOrigin  \n",
       "1785  Criollo, Trinitario    Papua New Guinea  \n",
       "1786                                  Bolivia  \n",
       "1787                       Dominican Republic  \n",
       "1788            Forastero               Congo  \n",
       "1789                                           \n",
       "1790                                     Peru  \n",
       "1791            Forastero               Congo  \n",
       "1792            Forastero               India  \n",
       "1793                                    India  \n",
       "1794                                   Brazil  "
      ]
     },
     "execution_count": 5,
     "metadata": {},
     "output_type": "execute_result"
    }
   ],
   "source": [
    "df.tail(10)"
   ]
  },
  {
   "cell_type": "code",
   "execution_count": 6,
   "id": "d472603a",
   "metadata": {},
   "outputs": [
    {
     "data": {
      "text/plain": [
       "Company \\n(Maker-if known)            object\n",
       "Specific Bean Origin\\nor Bar Name     object\n",
       "REF                                    int64\n",
       "Review\\nDate                           int64\n",
       "Cocoa\\nPercent                        object\n",
       "Company\\nLocation                     object\n",
       "Rating                               float64\n",
       "Bean\\nType                            object\n",
       "Broad Bean\\nOrigin                    object\n",
       "dtype: object"
      ]
     },
     "execution_count": 6,
     "metadata": {},
     "output_type": "execute_result"
    }
   ],
   "source": [
    "df.dtypes"
   ]
  },
  {
   "cell_type": "code",
   "execution_count": 7,
   "id": "dc9239c1",
   "metadata": {},
   "outputs": [
    {
     "data": {
      "text/plain": [
       "(1795, 9)"
      ]
     },
     "execution_count": 7,
     "metadata": {},
     "output_type": "execute_result"
    }
   ],
   "source": [
    "df.shape"
   ]
  },
  {
   "cell_type": "code",
   "execution_count": 8,
   "id": "54e0c7fb",
   "metadata": {},
   "outputs": [
    {
     "data": {
      "text/plain": [
       "Index(['Company \\n(Maker-if known)', 'Specific Bean Origin\\nor Bar Name',\n",
       "       'REF', 'Review\\nDate', 'Cocoa\\nPercent', 'Company\\nLocation', 'Rating',\n",
       "       'Bean\\nType', 'Broad Bean\\nOrigin'],\n",
       "      dtype='object')"
      ]
     },
     "execution_count": 8,
     "metadata": {},
     "output_type": "execute_result"
    }
   ],
   "source": [
    "df.columns"
   ]
  },
  {
   "cell_type": "code",
   "execution_count": 9,
   "id": "8f269266",
   "metadata": {},
   "outputs": [
    {
     "name": "stdout",
     "output_type": "stream",
     "text": [
      "col: Company \n",
      "(Maker-if known) has 416 unique values\n",
      "Index(['Soma', 'Bonnat', 'Fresco', 'Pralus', 'A. Morin', 'Arete', 'Guittard',\n",
      "       'Domori', 'Valrhona', 'Hotel Chocolat (Coppeneur)',\n",
      "       ...\n",
      "       'Mayacama', 'Majani', 'Malagos', 'Malmo', 'Manifesto Cacao',\n",
      "       'Chocablog', 'Marigold's Finest', 'Chloe Chocolat', 'Chequessett',\n",
      "       'Ki' Xocolatl'],\n",
      "      dtype='object', name='Company \\n(Maker-if known)', length=416)\n",
      "col: Specific Bean Origin\n",
      "or Bar Name has 1039 unique values\n",
      "Index(['Madagascar', 'Peru', 'Ecuador', 'Dominican Republic', 'Venezuela',\n",
      "       'Chuao', 'Sambirano', 'Ocumare', 'Ghana', 'Papua New Guinea',\n",
      "       ...\n",
      "       'Ghana, #211, MR, MC', 'Jamaica, #209, DR, SC',\n",
      "       'Conacado, #212, LR, SC', 'Jamaica, #210, DR, MC',\n",
      "       'Sambirano Valley, #214, LR, MC', 'Conacado, #213, DR, -C',\n",
      "       'Sambirano Valley, #215, MR, MC', 'Chuao, #218, MR, MC',\n",
      "       'Chuao, #217, DR, MC', 'Brazil, Mitzi Blue'],\n",
      "      dtype='object', name='Specific Bean Origin\\nor Bar Name', length=1039)\n",
      "col: REF has 440 unique values\n",
      "Index([ 414,  404,   24,  387,   32, 1454, 1466, 1450,  431,  552,\n",
      "       ...\n",
      "        263,  157, 1003,  772,  853,  579,  855,  597,  849,  202],\n",
      "      dtype='int64', name='REF', length=440)\n",
      "col: Review\n",
      "Date has 12 unique values\n",
      "Index([2015, 2014, 2016, 2012, 2013, 2011, 2009, 2010, 2008, 2007, 2006, 2017], dtype='int64', name='Review\\nDate')\n",
      "col: Cocoa\n",
      "Percent has 45 unique values\n",
      "Index(['70%', '75%', '72%', '65%', '80%', '74%', '68%', '60%', '73%', '85%',\n",
      "       '64%', '77%', '71%', '67%', '76%', '66%', '100%', '82%', '78%', '55%',\n",
      "       '62%', '63%', '69%', '90%', '61%', '88%', '58%', '81%', '83%', '84%',\n",
      "       '72.5%', '91%', '56%', '73.5%', '99%', '89%', '53%', '46%', '60.5%',\n",
      "       '57%', '79%', '86%', '50%', '42%', '87%'],\n",
      "      dtype='object', name='Cocoa\\nPercent')\n",
      "col: Company\n",
      "Location has 60 unique values\n",
      "Index(['U.S.A.', 'France', 'Canada', 'U.K.', 'Italy', 'Ecuador', 'Australia',\n",
      "       'Belgium', 'Switzerland', 'Germany', 'Austria', 'Spain', 'Colombia',\n",
      "       'Hungary', 'Venezuela', 'Japan', 'Brazil', 'Peru', 'Madagascar',\n",
      "       'New Zealand', 'Denmark', 'Vietnam', 'Scotland', 'Guatemala', 'Israel',\n",
      "       'Costa Rica', 'Argentina', 'Poland', 'Lithuania', 'Honduras',\n",
      "       'South Korea', 'Nicaragua', 'Sweden', 'Domincan Republic', 'Ireland',\n",
      "       'Netherlands', 'Fiji', 'Sao Tome', 'Puerto Rico', 'Mexico', 'Amsterdam',\n",
      "       'Iceland', 'Singapore', 'Portugal', 'Grenada', 'South Africa',\n",
      "       'Finland', 'Bolivia', 'St. Lucia', 'Chile', 'Philippines',\n",
      "       'Czech Republic', 'India', 'Martinique', 'Niacragua', 'Ghana', 'Wales',\n",
      "       'Eucador', 'Russia', 'Suriname'],\n",
      "      dtype='object', name='Company\\nLocation')\n",
      "col: Rating has 13 unique values\n",
      "Index([3.5, 3.0, 3.25, 2.75, 3.75, 2.5, 4.0, 2.0, 2.25, 1.5, 1.0, 1.75, 5.0], dtype='float64', name='Rating')\n",
      "col: Bean\n",
      "Type has 41 unique values\n",
      "Index([                       ' ',               'Trinitario',\n",
      "                        'Criollo',                'Forastero',\n",
      "           'Forastero (Nacional)',                    'Blend',\n",
      "            'Criollo, Trinitario',       'Forastero (Arriba)',\n",
      "            'Criollo (Porcelana)',      'Trinitario, Criollo',\n",
      "          'Forastero (Parazinho)',   'Forastero (Arriba) ASS',\n",
      "                        'Beniano',                   'Matina',\n",
      "                            'EET',        'Nacional (Arriba)',\n",
      "             'Criollo, Forastero',              'Amazon, ICS',\n",
      "          'Trinitario, Forastero',               'Amazon mix',\n",
      "            'Forastero (Catongo)',                 'Nacional',\n",
      "       'Trinitario (85% Criollo)',         'Criollo (Amarru)',\n",
      "           'Criollo (Ocumare 61)',               'Criollo, +',\n",
      "        'Forastero (Arriba) ASSS',         'Trinitario, TCGA',\n",
      "         'Trinitario (Amelonado)',     'Trinitario, Nacional',\n",
      "                              nan,    'Forastero (Amelonado)',\n",
      "          'Forastero, Trinitario',     'Criollo (Ocumare 77)',\n",
      "                         'Amazon',   'Forastero(Arriba, CCN)',\n",
      "           'Criollo (Ocumare 67)',                    'CCN51',\n",
      "           'Trinitario (Scavina)',  'Blend-Forastero,Criollo',\n",
      "              'Criollo (Ocumare)',           'Criollo (Wild)'],\n",
      "      dtype='object', name='Bean\\nType')\n",
      "col: Broad Bean\n",
      "Origin has 100 unique values\n",
      "Index([                'Venezuela',                   'Ecuador',\n",
      "                            'Peru',                'Madagascar',\n",
      "              'Dominican Republic',                         ' ',\n",
      "                       'Nicaragua',                    'Brazil',\n",
      "                         'Bolivia',                    'Belize',\n",
      "       ...\n",
      "       'Africa, Carribean, C. Am.',   'Ven., Indonesia, Ecuad.',\n",
      "                 'Trinidad-Tobago',  'Peru, Ecuador, Venezuela',\n",
      "            'Venezuela, Dom. Rep.',              'Peru, Belize',\n",
      "           'Peru, Mad., Dom. Rep.',                         nan,\n",
      "               'PNG, Vanuatu, Mad',      'Venezuela, Carribean'],\n",
      "      dtype='object', name='Broad Bean\\nOrigin', length=101)\n"
     ]
    }
   ],
   "source": [
    "for col in df.columns:\n",
    "    n_unique_values = df[col].nunique()\n",
    "    print(\"col: %s has %d unique values\" % (col, n_unique_values))\n",
    "    print(df[col].value_counts(dropna=False).index)"
   ]
  },
  {
   "cell_type": "code",
   "execution_count": 10,
   "id": "613bcd79",
   "metadata": {},
   "outputs": [
    {
     "data": {
      "text/html": [
       "<div>\n",
       "<style scoped>\n",
       "    .dataframe tbody tr th:only-of-type {\n",
       "        vertical-align: middle;\n",
       "    }\n",
       "\n",
       "    .dataframe tbody tr th {\n",
       "        vertical-align: top;\n",
       "    }\n",
       "\n",
       "    .dataframe thead th {\n",
       "        text-align: right;\n",
       "    }\n",
       "</style>\n",
       "<table border=\"1\" class=\"dataframe\">\n",
       "  <thead>\n",
       "    <tr style=\"text-align: right;\">\n",
       "      <th></th>\n",
       "      <th>Company \\n(Maker-if known)</th>\n",
       "      <th>Specific Bean Origin\\nor Bar Name</th>\n",
       "      <th>REF</th>\n",
       "      <th>Review\\nDate</th>\n",
       "      <th>Cocoa\\nPercent</th>\n",
       "      <th>Company\\nLocation</th>\n",
       "      <th>Rating</th>\n",
       "      <th>Bean\\nType</th>\n",
       "      <th>Broad Bean\\nOrigin</th>\n",
       "    </tr>\n",
       "  </thead>\n",
       "  <tbody>\n",
       "    <tr>\n",
       "      <th>count</th>\n",
       "      <td>1795</td>\n",
       "      <td>1795</td>\n",
       "      <td>1795.000000</td>\n",
       "      <td>1795.000000</td>\n",
       "      <td>1795</td>\n",
       "      <td>1795</td>\n",
       "      <td>1795.000000</td>\n",
       "      <td>1794</td>\n",
       "      <td>1794</td>\n",
       "    </tr>\n",
       "    <tr>\n",
       "      <th>unique</th>\n",
       "      <td>416</td>\n",
       "      <td>1039</td>\n",
       "      <td>NaN</td>\n",
       "      <td>NaN</td>\n",
       "      <td>45</td>\n",
       "      <td>60</td>\n",
       "      <td>NaN</td>\n",
       "      <td>41</td>\n",
       "      <td>100</td>\n",
       "    </tr>\n",
       "    <tr>\n",
       "      <th>top</th>\n",
       "      <td>Soma</td>\n",
       "      <td>Madagascar</td>\n",
       "      <td>NaN</td>\n",
       "      <td>NaN</td>\n",
       "      <td>70%</td>\n",
       "      <td>U.S.A.</td>\n",
       "      <td>NaN</td>\n",
       "      <td></td>\n",
       "      <td>Venezuela</td>\n",
       "    </tr>\n",
       "    <tr>\n",
       "      <th>freq</th>\n",
       "      <td>47</td>\n",
       "      <td>57</td>\n",
       "      <td>NaN</td>\n",
       "      <td>NaN</td>\n",
       "      <td>672</td>\n",
       "      <td>764</td>\n",
       "      <td>NaN</td>\n",
       "      <td>887</td>\n",
       "      <td>214</td>\n",
       "    </tr>\n",
       "    <tr>\n",
       "      <th>mean</th>\n",
       "      <td>NaN</td>\n",
       "      <td>NaN</td>\n",
       "      <td>1035.904735</td>\n",
       "      <td>2012.325348</td>\n",
       "      <td>NaN</td>\n",
       "      <td>NaN</td>\n",
       "      <td>3.185933</td>\n",
       "      <td>NaN</td>\n",
       "      <td>NaN</td>\n",
       "    </tr>\n",
       "    <tr>\n",
       "      <th>std</th>\n",
       "      <td>NaN</td>\n",
       "      <td>NaN</td>\n",
       "      <td>552.886365</td>\n",
       "      <td>2.927210</td>\n",
       "      <td>NaN</td>\n",
       "      <td>NaN</td>\n",
       "      <td>0.478062</td>\n",
       "      <td>NaN</td>\n",
       "      <td>NaN</td>\n",
       "    </tr>\n",
       "    <tr>\n",
       "      <th>min</th>\n",
       "      <td>NaN</td>\n",
       "      <td>NaN</td>\n",
       "      <td>5.000000</td>\n",
       "      <td>2006.000000</td>\n",
       "      <td>NaN</td>\n",
       "      <td>NaN</td>\n",
       "      <td>1.000000</td>\n",
       "      <td>NaN</td>\n",
       "      <td>NaN</td>\n",
       "    </tr>\n",
       "    <tr>\n",
       "      <th>25%</th>\n",
       "      <td>NaN</td>\n",
       "      <td>NaN</td>\n",
       "      <td>576.000000</td>\n",
       "      <td>2010.000000</td>\n",
       "      <td>NaN</td>\n",
       "      <td>NaN</td>\n",
       "      <td>2.875000</td>\n",
       "      <td>NaN</td>\n",
       "      <td>NaN</td>\n",
       "    </tr>\n",
       "    <tr>\n",
       "      <th>50%</th>\n",
       "      <td>NaN</td>\n",
       "      <td>NaN</td>\n",
       "      <td>1069.000000</td>\n",
       "      <td>2013.000000</td>\n",
       "      <td>NaN</td>\n",
       "      <td>NaN</td>\n",
       "      <td>3.250000</td>\n",
       "      <td>NaN</td>\n",
       "      <td>NaN</td>\n",
       "    </tr>\n",
       "    <tr>\n",
       "      <th>75%</th>\n",
       "      <td>NaN</td>\n",
       "      <td>NaN</td>\n",
       "      <td>1502.000000</td>\n",
       "      <td>2015.000000</td>\n",
       "      <td>NaN</td>\n",
       "      <td>NaN</td>\n",
       "      <td>3.500000</td>\n",
       "      <td>NaN</td>\n",
       "      <td>NaN</td>\n",
       "    </tr>\n",
       "    <tr>\n",
       "      <th>max</th>\n",
       "      <td>NaN</td>\n",
       "      <td>NaN</td>\n",
       "      <td>1952.000000</td>\n",
       "      <td>2017.000000</td>\n",
       "      <td>NaN</td>\n",
       "      <td>NaN</td>\n",
       "      <td>5.000000</td>\n",
       "      <td>NaN</td>\n",
       "      <td>NaN</td>\n",
       "    </tr>\n",
       "  </tbody>\n",
       "</table>\n",
       "</div>"
      ],
      "text/plain": [
       "       Company \\n(Maker-if known) Specific Bean Origin\\nor Bar Name  \\\n",
       "count                        1795                              1795   \n",
       "unique                        416                              1039   \n",
       "top                          Soma                        Madagascar   \n",
       "freq                           47                                57   \n",
       "mean                          NaN                               NaN   \n",
       "std                           NaN                               NaN   \n",
       "min                           NaN                               NaN   \n",
       "25%                           NaN                               NaN   \n",
       "50%                           NaN                               NaN   \n",
       "75%                           NaN                               NaN   \n",
       "max                           NaN                               NaN   \n",
       "\n",
       "                REF  Review\\nDate Cocoa\\nPercent Company\\nLocation  \\\n",
       "count   1795.000000   1795.000000           1795              1795   \n",
       "unique          NaN           NaN             45                60   \n",
       "top             NaN           NaN            70%            U.S.A.   \n",
       "freq            NaN           NaN            672               764   \n",
       "mean    1035.904735   2012.325348            NaN               NaN   \n",
       "std      552.886365      2.927210            NaN               NaN   \n",
       "min        5.000000   2006.000000            NaN               NaN   \n",
       "25%      576.000000   2010.000000            NaN               NaN   \n",
       "50%     1069.000000   2013.000000            NaN               NaN   \n",
       "75%     1502.000000   2015.000000            NaN               NaN   \n",
       "max     1952.000000   2017.000000            NaN               NaN   \n",
       "\n",
       "             Rating Bean\\nType Broad Bean\\nOrigin  \n",
       "count   1795.000000       1794               1794  \n",
       "unique          NaN         41                100  \n",
       "top             NaN                     Venezuela  \n",
       "freq            NaN        887                214  \n",
       "mean       3.185933        NaN                NaN  \n",
       "std        0.478062        NaN                NaN  \n",
       "min        1.000000        NaN                NaN  \n",
       "25%        2.875000        NaN                NaN  \n",
       "50%        3.250000        NaN                NaN  \n",
       "75%        3.500000        NaN                NaN  \n",
       "max        5.000000        NaN                NaN  "
      ]
     },
     "execution_count": 10,
     "metadata": {},
     "output_type": "execute_result"
    }
   ],
   "source": [
    "df.describe(include='all')"
   ]
  },
  {
   "cell_type": "code",
   "execution_count": 11,
   "id": "3be1dc2f",
   "metadata": {
    "scrolled": true
   },
   "outputs": [
    {
     "name": "stdout",
     "output_type": "stream",
     "text": [
      "Company \\n(Maker-if known)\n",
      "Soma                 47\n",
      "Bonnat               27\n",
      "Fresco               26\n",
      "Pralus               25\n",
      "A. Morin             23\n",
      "                     ..\n",
      "Chocablog             1\n",
      "Marigold's Finest     1\n",
      "Chloe Chocolat        1\n",
      "Chequessett           1\n",
      "Ki' Xocolatl          1\n",
      "Name: count, Length: 416, dtype: int64\n",
      "\n",
      "\n",
      "Specific Bean Origin\\nor Bar Name\n",
      "Madagascar                        57\n",
      "Peru                              45\n",
      "Ecuador                           42\n",
      "Dominican Republic                37\n",
      "Venezuela                         21\n",
      "                                  ..\n",
      "Conacado, #213, DR, -C             1\n",
      "Sambirano Valley, #215, MR, MC     1\n",
      "Chuao, #218, MR, MC                1\n",
      "Chuao, #217, DR, MC                1\n",
      "Brazil, Mitzi Blue                 1\n",
      "Name: count, Length: 1039, dtype: int64\n",
      "\n",
      "\n",
      "REF\n",
      "414    10\n",
      "404     9\n",
      "24      9\n",
      "387     9\n",
      "32      8\n",
      "       ..\n",
      "579     1\n",
      "855     1\n",
      "597     1\n",
      "849     1\n",
      "202     1\n",
      "Name: count, Length: 440, dtype: int64\n",
      "\n",
      "\n",
      "Review\\nDate\n",
      "2015    285\n",
      "2014    247\n",
      "2016    219\n",
      "2012    195\n",
      "2013    184\n",
      "2011    165\n",
      "2009    123\n",
      "2010    111\n",
      "2008     93\n",
      "2007     77\n",
      "2006     72\n",
      "2017     24\n",
      "Name: count, dtype: int64\n",
      "\n",
      "\n",
      "Cocoa\\nPercent\n",
      "70%      672\n",
      "75%      222\n",
      "72%      189\n",
      "65%       78\n",
      "80%       72\n",
      "74%       50\n",
      "68%       47\n",
      "60%       43\n",
      "73%       40\n",
      "85%       36\n",
      "64%       34\n",
      "77%       33\n",
      "71%       31\n",
      "67%       27\n",
      "76%       23\n",
      "66%       23\n",
      "100%      20\n",
      "82%       17\n",
      "78%       17\n",
      "55%       16\n",
      "62%       14\n",
      "63%       12\n",
      "69%       10\n",
      "90%        8\n",
      "61%        8\n",
      "88%        8\n",
      "58%        8\n",
      "81%        5\n",
      "83%        4\n",
      "84%        4\n",
      "72.5%      4\n",
      "91%        3\n",
      "56%        2\n",
      "73.5%      2\n",
      "99%        2\n",
      "89%        2\n",
      "53%        1\n",
      "46%        1\n",
      "60.5%      1\n",
      "57%        1\n",
      "79%        1\n",
      "86%        1\n",
      "50%        1\n",
      "42%        1\n",
      "87%        1\n",
      "Name: count, dtype: int64\n",
      "\n",
      "\n",
      "Company\\nLocation\n",
      "U.S.A.               764\n",
      "France               156\n",
      "Canada               125\n",
      "U.K.                  96\n",
      "Italy                 63\n",
      "Ecuador               54\n",
      "Australia             49\n",
      "Belgium               40\n",
      "Switzerland           38\n",
      "Germany               35\n",
      "Austria               26\n",
      "Spain                 25\n",
      "Colombia              23\n",
      "Hungary               22\n",
      "Venezuela             20\n",
      "Japan                 17\n",
      "Brazil                17\n",
      "Peru                  17\n",
      "Madagascar            17\n",
      "New Zealand           17\n",
      "Denmark               15\n",
      "Vietnam               11\n",
      "Scotland              10\n",
      "Guatemala             10\n",
      "Israel                 9\n",
      "Costa Rica             9\n",
      "Argentina              9\n",
      "Poland                 8\n",
      "Lithuania              6\n",
      "Honduras               6\n",
      "South Korea            5\n",
      "Nicaragua              5\n",
      "Sweden                 5\n",
      "Domincan Republic      5\n",
      "Ireland                4\n",
      "Netherlands            4\n",
      "Fiji                   4\n",
      "Sao Tome               4\n",
      "Puerto Rico            4\n",
      "Mexico                 4\n",
      "Amsterdam              4\n",
      "Iceland                3\n",
      "Singapore              3\n",
      "Portugal               3\n",
      "Grenada                3\n",
      "South Africa           3\n",
      "Finland                2\n",
      "Bolivia                2\n",
      "St. Lucia              2\n",
      "Chile                  2\n",
      "Philippines            1\n",
      "Czech Republic         1\n",
      "India                  1\n",
      "Martinique             1\n",
      "Niacragua              1\n",
      "Ghana                  1\n",
      "Wales                  1\n",
      "Eucador                1\n",
      "Russia                 1\n",
      "Suriname               1\n",
      "Name: count, dtype: int64\n",
      "\n",
      "\n",
      "Rating\n",
      "3.50    392\n",
      "3.00    341\n",
      "3.25    303\n",
      "2.75    259\n",
      "3.75    210\n",
      "2.50    127\n",
      "4.00     98\n",
      "2.00     32\n",
      "2.25     14\n",
      "1.50     10\n",
      "1.00      4\n",
      "1.75      3\n",
      "5.00      2\n",
      "Name: count, dtype: int64\n",
      "\n",
      "\n",
      "Bean\\nType\n",
      "                            887\n",
      "Trinitario                  419\n",
      "Criollo                     153\n",
      "Forastero                    87\n",
      "Forastero (Nacional)         52\n",
      "Blend                        41\n",
      "Criollo, Trinitario          39\n",
      "Forastero (Arriba)           37\n",
      "Criollo (Porcelana)          10\n",
      "Trinitario, Criollo           9\n",
      "Forastero (Parazinho)         8\n",
      "Forastero (Arriba) ASS        6\n",
      "Nacional (Arriba)             3\n",
      "Matina                        3\n",
      "EET                           3\n",
      "Beniano                       3\n",
      "Criollo (Ocumare 61)          2\n",
      "Trinitario, Forastero         2\n",
      "Trinitario (85% Criollo)      2\n",
      "Forastero (Catongo)           2\n",
      "Criollo, Forastero            2\n",
      "Amazon, ICS                   2\n",
      "Criollo (Amarru)              2\n",
      "Amazon mix                    2\n",
      "Nacional                      2\n",
      "Criollo (Ocumare)             1\n",
      "Criollo (Ocumare 67)          1\n",
      "Trinitario, TCGA              1\n",
      "Trinitario (Amelonado)        1\n",
      "Trinitario, Nacional          1\n",
      "Forastero (Amelonado)         1\n",
      "Forastero, Trinitario         1\n",
      "Forastero (Arriba) ASSS       1\n",
      "Forastero(Arriba, CCN)        1\n",
      "Criollo, +                    1\n",
      "Criollo (Wild)                1\n",
      "Trinitario (Scavina)          1\n",
      "Criollo (Ocumare 77)          1\n",
      "CCN51                         1\n",
      "Amazon                        1\n",
      "Blend-Forastero,Criollo       1\n",
      "Name: count, dtype: int64\n",
      "\n",
      "\n",
      "Broad Bean\\nOrigin\n",
      "Venezuela                214\n",
      "Ecuador                  193\n",
      "Peru                     165\n",
      "Madagascar               145\n",
      "Dominican Republic       141\n",
      "                        ... \n",
      "Peru, Belize               1\n",
      "Peru, Mad., Dom. Rep.      1\n",
      "PNG, Vanuatu, Mad          1\n",
      "Trinidad, Ecuador          1\n",
      "Venezuela, Carribean       1\n",
      "Name: count, Length: 100, dtype: int64\n",
      "\n",
      "\n"
     ]
    }
   ],
   "source": [
    "for col in df.columns:\n",
    "    print(df[col].value_counts())\n",
    "    print(\"\\n\")"
   ]
  },
  {
   "cell_type": "code",
   "execution_count": 12,
   "id": "a3c0b15a",
   "metadata": {},
   "outputs": [
    {
     "data": {
      "text/plain": [
       "Company \\n(Maker-if known)           False\n",
       "Specific Bean Origin\\nor Bar Name    False\n",
       "REF                                  False\n",
       "Review\\nDate                         False\n",
       "Cocoa\\nPercent                       False\n",
       "Company\\nLocation                    False\n",
       "Rating                               False\n",
       "Bean\\nType                            True\n",
       "Broad Bean\\nOrigin                    True\n",
       "dtype: bool"
      ]
     },
     "execution_count": 12,
     "metadata": {},
     "output_type": "execute_result"
    }
   ],
   "source": [
    "df.isnull().any(axis=0)"
   ]
  },
  {
   "cell_type": "code",
   "execution_count": 13,
   "id": "5e452e13",
   "metadata": {},
   "outputs": [
    {
     "name": "stdout",
     "output_type": "stream",
     "text": [
      "Bean\n",
      "Type Index([1544], dtype='int64')\n",
      "Broad Bean\n",
      "Origin Index([1072], dtype='int64')\n"
     ]
    }
   ],
   "source": [
    "for col in df.columns:\n",
    "    condition = np.logical_or(df[col].isna(), df[col] is None)\n",
    "    indexes = df[condition][col].index\n",
    "    if len(indexes) > 0:\n",
    "        print(f\"%s {indexes}\"%col)"
   ]
  },
  {
   "cell_type": "code",
   "execution_count": 14,
   "id": "e0a1359d",
   "metadata": {},
   "outputs": [
    {
     "name": "stdout",
     "output_type": "stream",
     "text": [
      "Total number of missing values: 1\n"
     ]
    }
   ],
   "source": [
    "print(\"Total number of missing values: %d\"%(df[col].isnull().sum().sum()))"
   ]
  },
  {
   "cell_type": "code",
   "execution_count": 15,
   "id": "cca28d5f",
   "metadata": {},
   "outputs": [
    {
     "name": "stdout",
     "output_type": "stream",
     "text": [
      "Total number of columns with all values null values: 0\n",
      "Total number of columns with any row having null value: 1\n"
     ]
    }
   ],
   "source": [
    "print(\"Total number of columns with all values null values: %d\"%(df[col].isna().all(axis=0)))\n",
    "print(\"Total number of columns with any row having null value: %d\"%(df[col].isna().any(axis=0)))"
   ]
  },
  {
   "cell_type": "code",
   "execution_count": 16,
   "id": "1323405d",
   "metadata": {},
   "outputs": [
    {
     "name": "stdout",
     "output_type": "stream",
     "text": [
      "Total number of rows with all values null values:  0\n"
     ]
    }
   ],
   "source": [
    "print(\"Total number of rows with all values null values: \",df.isnull().all(axis=1).sum())"
   ]
  },
  {
   "cell_type": "code",
   "execution_count": 17,
   "id": "86673bb4",
   "metadata": {},
   "outputs": [
    {
     "name": "stdout",
     "output_type": "stream",
     "text": [
      "Total number of rows with any values null values:  2\n"
     ]
    }
   ],
   "source": [
    "print(\"Total number of rows with any values null values: \",df.isnull().any(axis=1).sum())"
   ]
  },
  {
   "cell_type": "code",
   "execution_count": 18,
   "id": "ac6183b0",
   "metadata": {},
   "outputs": [
    {
     "name": "stdout",
     "output_type": "stream",
     "text": [
      "                                   Null values  Total  percentage\n",
      "Bean\\nType                                   1   1794     0.05571\n",
      "Broad Bean\\nOrigin                           1   1794     0.05571\n",
      "Company \\n(Maker-if known)                   0   1795     0.00000\n",
      "Specific Bean Origin\\nor Bar Name            0   1795     0.00000\n",
      "REF                                          0   1795     0.00000\n",
      "Review\\nDate                                 0   1795     0.00000\n",
      "Cocoa\\nPercent                               0   1795     0.00000\n",
      "Company\\nLocation                            0   1795     0.00000\n",
      "Rating                                       0   1795     0.00000\n"
     ]
    }
   ],
   "source": [
    "total_null = df.isnull().sum().sort_values(ascending=False)\n",
    "total = df.count().sort_values(ascending=False)\n",
    "percent = (df.isnull().mean()*100).sort_values(ascending=False)\n",
    "missing_data = pd.concat([total_null, total, percent], axis=1, keys=[\"Null values\", \"Total\", \"percentage\"])\n",
    "print(missing_data)"
   ]
  },
  {
   "cell_type": "code",
   "execution_count": 19,
   "id": "c66ebe9c",
   "metadata": {},
   "outputs": [
    {
     "data": {
      "image/png": "[encoded data removed]",
      "text/plain": [
       "<Figure size 640x480 with 1 Axes>"
      ]
     },
     "metadata": {},
     "output_type": "display_data"
    }
   ],
   "source": [
    "sb.barplot(x=missing_data.index, y=missing_data['percentage'])\n",
    "plt.xticks(rotation=90)\n",
    "plt.show()"
   ]
  },
  {
   "cell_type": "code",
   "execution_count": 20,
   "id": "c9283962",
   "metadata": {},
   "outputs": [
    {
     "data": {
      "image/png": "[encoded data removed]",
      "text/plain": [
       "<Figure size 1200x600 with 2 Axes>"
      ]
     },
     "metadata": {},
     "output_type": "display_data"
    }
   ],
   "source": [
    "plt.figure(figsize=(12, 6))\n",
    "sb.heatmap(df.isnull())\n",
    "plt.show()"
   ]
  },
  {
   "cell_type": "code",
   "execution_count": 21,
   "id": "7ecba1cd",
   "metadata": {},
   "outputs": [],
   "source": [
    "for i in range(len(df.columns)):\n",
    "    if i in [2, 3, 6]:\n",
    "        df[df.columns[i]].replace(\".\", np.nan, inplace=True)"
   ]
  },
  {
   "cell_type": "code",
   "execution_count": 22,
   "id": "e21892de",
   "metadata": {},
   "outputs": [
    {
     "data": {
      "text/plain": [
       "Company \\n(Maker-if known)            object\n",
       "Specific Bean Origin\\nor Bar Name     object\n",
       "REF                                    int64\n",
       "Review\\nDate                           int64\n",
       "Cocoa\\nPercent                        object\n",
       "Company\\nLocation                     object\n",
       "Rating                               float64\n",
       "Bean\\nType                            object\n",
       "Broad Bean\\nOrigin                    object\n",
       "dtype: object"
      ]
     },
     "execution_count": 22,
     "metadata": {},
     "output_type": "execute_result"
    }
   ],
   "source": [
    "df.dtypes"
   ]
  },
  {
   "cell_type": "code",
   "execution_count": 23,
   "id": "b177ca88",
   "metadata": {},
   "outputs": [],
   "source": [
    "df['Rating'] = df['Rating'].apply(np.int64)"
   ]
  },
  {
   "cell_type": "code",
   "execution_count": 24,
   "id": "3cbea85e",
   "metadata": {},
   "outputs": [
    {
     "data": {
      "text/plain": [
       "Company \\n(Maker-if known)           object\n",
       "Specific Bean Origin\\nor Bar Name    object\n",
       "REF                                   int64\n",
       "Review\\nDate                          int64\n",
       "Cocoa\\nPercent                       object\n",
       "Company\\nLocation                    object\n",
       "Rating                                int64\n",
       "Bean\\nType                           object\n",
       "Broad Bean\\nOrigin                   object\n",
       "dtype: object"
      ]
     },
     "execution_count": 24,
     "metadata": {},
     "output_type": "execute_result"
    }
   ],
   "source": [
    "df.dtypes"
   ]
  },
  {
   "cell_type": "code",
   "execution_count": 25,
   "id": "00ebdc80",
   "metadata": {},
   "outputs": [],
   "source": [
    "df.to_csv(\"A:/Programming/Python/NLP/Data files/EDA Session 3.1/flavors_of_cacao_data_preprocessing1.csv\")"
   ]
  },
  {
   "cell_type": "code",
   "execution_count": 26,
   "id": "1bf45ebc",
   "metadata": {},
   "outputs": [],
   "source": [
    "df[\"Cocoa\\nPercent\"] = df[\"Cocoa\\nPercent\"].str.replace(\"%\", \"\")"
   ]
  },
  {
   "cell_type": "code",
   "execution_count": 27,
   "id": "8958ff67",
   "metadata": {},
   "outputs": [
    {
     "name": "stdout",
     "output_type": "stream",
     "text": [
      "mean \n",
      " REF             1035.904735\n",
      "Review\\nDate    2012.325348\n",
      "Rating             2.797214\n",
      "dtype: float64 \n",
      "\n",
      "variance REF             305683.332614\n",
      "Review\\nDate         8.568560\n",
      "Rating               0.296648\n",
      "dtype: float64 \n",
      "\n",
      "variance REF             552.886365\n",
      "Review\\nDate      2.927210\n",
      "Rating            0.544654\n",
      "dtype: float64 \n",
      "\n",
      "range REF             1947\n",
      "Review\\nDate      11\n",
      "Rating             4\n",
      "dtype: int64 \n",
      "\n"
     ]
    }
   ],
   "source": [
    "print(\"mean \\n\", df[[\"REF\", \"Review\\nDate\", \"Rating\"]].mean(), \"\\n\")\n",
    "print(\"variance\", df[[\"REF\", \"Review\\nDate\", \"Rating\"]].var(), \"\\n\")\n",
    "print(\"variance\", df[[\"REF\", \"Review\\nDate\", \"Rating\"]].std(), \"\\n\")\n",
    "print(\"range\", df[[\"REF\", \"Review\\nDate\", \"Rating\"]].max() - df[[\"REF\", \"Review\\nDate\", \"Rating\"]].min(), \"\\n\")"
   ]
  },
  {
   "cell_type": "code",
   "execution_count": 28,
   "id": "d1efe89e",
   "metadata": {},
   "outputs": [
    {
     "data": {
      "image/png": "[encoded data removed]",
      "text/plain": [
       "<Figure size 640x480 with 1 Axes>"
      ]
     },
     "metadata": {},
     "output_type": "display_data"
    }
   ],
   "source": [
    "fig = sb.kdeplot(data = df[[\"REF\", \"Review\\nDate\", \"Rating\"]], cbar=True)\n",
    "plt.show()"
   ]
  },
  {
   "cell_type": "code",
   "execution_count": 29,
   "id": "b1920661",
   "metadata": {},
   "outputs": [
    {
     "data": {
      "text/plain": [
       "REF            -0.141457\n",
       "Review\\nDate   -0.527234\n",
       "Rating         -0.398132\n",
       "dtype: float64"
      ]
     },
     "execution_count": 29,
     "metadata": {},
     "output_type": "execute_result"
    }
   ],
   "source": [
    "df[[\"REF\", \"Review\\nDate\", \"Rating\"]].skew()"
   ]
  },
  {
   "cell_type": "code",
   "execution_count": 30,
   "id": "f6a41878",
   "metadata": {},
   "outputs": [
    {
     "data": {
      "text/plain": [
       "REF            -1.143431\n",
       "Review\\nDate   -0.746494\n",
       "Rating          0.847378\n",
       "dtype: float64"
      ]
     },
     "execution_count": 30,
     "metadata": {},
     "output_type": "execute_result"
    }
   ],
   "source": [
    "df[[\"REF\", \"Review\\nDate\", \"Rating\"]].kurt()"
   ]
  },
  {
   "cell_type": "code",
   "execution_count": 31,
   "id": "f1acdbf5",
   "metadata": {},
   "outputs": [
    {
     "data": {
      "image/png": "[encoded data removed]",
      "text/plain": [
       "<Figure size 640x480 with 1 Axes>"
      ]
     },
     "metadata": {},
     "output_type": "display_data"
    }
   ],
   "source": [
    "fig = sb.kdeplot(data = df[[\"Review\\nDate\", \"Rating\"]], cbar=True)\n",
    "plt.show()"
   ]
  },
  {
   "cell_type": "code",
   "execution_count": 33,
   "id": "18fb733c",
   "metadata": {},
   "outputs": [
    {
     "name": "stdout",
     "output_type": "stream",
     "text": [
      "                   REF  Review\\nDate    Rating\n",
      "REF           1.000000      0.985076  0.010763\n",
      "Review\\nDate  0.985076      1.000000  0.002946\n",
      "Rating        0.010763      0.002946  1.000000\n"
     ]
    }
   ],
   "source": [
    "corr = df[[\"REF\", \"Review\\nDate\", \"Rating\"]].corr()\n",
    "print(corr)"
   ]
  },
  {
   "cell_type": "code",
   "execution_count": 38,
   "id": "008d1fa4",
   "metadata": {},
   "outputs": [
    {
     "data": {
      "image/png": "[encoded data removed]",
      "text/plain": [
       "<Figure size 400x400 with 2 Axes>"
      ]
     },
     "metadata": {},
     "output_type": "display_data"
    }
   ],
   "source": [
    "plt.figure(figsize=(4, 4))\n",
    "sb.heatmap(corr, annot=True, cmap=plt.cm.Reds)\n",
    "plt.show()"
   ]
  },
  {
   "cell_type": "code",
   "execution_count": 39,
   "id": "3a7cd3f6",
   "metadata": {},
   "outputs": [
    {
     "data": {
      "text/plain": [
       "<Axes: xlabel='REF', ylabel='Review\\nDate'>"
      ]
     },
     "execution_count": 39,
     "metadata": {},
     "output_type": "execute_result"
    },
    {
     "data": {
      "image/png": "[encoded data removed]",
      "text/plain": [
       "<Figure size 640x480 with 1 Axes>"
      ]
     },
     "metadata": {},
     "output_type": "display_data"
    }
   ],
   "source": [
    "sb.scatterplot(x=df[\"REF\"], y=df[\"Review\\nDate\"])"
   ]
  },
  {
   "cell_type": "code",
   "execution_count": 43,
   "id": "030c8e38",
   "metadata": {},
   "outputs": [
    {
     "data": {
      "text/plain": [
       "<Axes: xlabel='Rating', ylabel='Review\\nDate'>"
      ]
     },
     "execution_count": 43,
     "metadata": {},
     "output_type": "execute_result"
    },
    {
     "data": {
      "image/png": "[encoded data removed]",
      "text/plain": [
       "<Figure size 640x480 with 1 Axes>"
      ]
     },
     "metadata": {},
     "output_type": "display_data"
    }
   ],
   "source": [
    "sb.scatterplot(x=df[\"Rating\"], y=df[\"Review\\nDate\"])"
   ]
  },
  {
   "cell_type": "code",
   "execution_count": null,
   "id": "5189879b",
   "metadata": {},
   "outputs": [],
   "source": []
  }
 ],
 "metadata": {
  "kernelspec": {
   "display_name": "Python 3 (ipykernel)",
   "language": "python",
   "name": "python3"
  },
  "language_info": {
   "codemirror_mode": {
    "name": "ipython",
    "version": 3
   },
   "file_extension": ".py",
   "mimetype": "text/x-python",
   "name": "python",
   "nbconvert_exporter": "python",
   "pygments_lexer": "ipython3",
   "version": "3.10.7"
  }
 },
 "nbformat": 4,
 "nbformat_minor": 5
}
