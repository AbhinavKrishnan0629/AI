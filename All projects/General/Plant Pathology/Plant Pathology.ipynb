{
 "cells": [
  {
   "cell_type": "code",
   "execution_count": null,
   "id": "cf24c18a",
   "metadata": {},
   "outputs": [],
   "source": [
    "#pip install efficientnet"
   ]
  },
  {
   "cell_type": "code",
   "execution_count": 10,
   "id": "d6b70f23",
   "metadata": {},
   "outputs": [],
   "source": [
    "import numpy as np\n",
    "import os\n",
    "import pandas as pd\n",
    "import matplotlib.pyplot as plt\n",
    "import tensorflow as tf, tensorflow.keras.backend as K\n",
    "import seaborn as sns\n",
    "import random\n",
    "import efficientnet.tfkeras as efn\n",
    "import cv2\n",
    "from tensorflow.keras import optimizers\n",
    "import hashlib\n",
    "import plotly.express as px\n",
    "import plotly.graph_objects as go\n",
    "\n",
    "%matplotlib inline\n",
    "\n",
    "import warnings\n",
    "warnings.filterwarnings('ignore')"
   ]
  },
  {
   "cell_type": "code",
   "execution_count": null,
   "id": "c5956813",
   "metadata": {},
   "outputs": [],
   "source": []
  },
  {
   "cell_type": "code",
   "execution_count": 11,
   "id": "03ff78d0",
   "metadata": {},
   "outputs": [],
   "source": [
    "def seed_everything(seed=13):\n",
    "    np.random.seed(seed)\n",
    "    tf.random.set_seed(seed)\n",
    "    os.environ['PYTHONHASHSEED'] = str(seed)\n",
    "    os.environ['TF_DETERMINISTIC_OPS'] = '1'\n",
    "    os.environ['TF_KERAS'] = '1'\n",
    "    random.seed(seed)\n",
    "\n",
    "seed_everything(42)"
   ]
  },
  {
   "cell_type": "code",
   "execution_count": null,
   "id": "527f646d",
   "metadata": {},
   "outputs": [],
   "source": [
    "def TPU():\n",
    "    try:\n",
    "        tpu = tf.distribute.cluster_resolver.TPUCluseterResolver()\n",
    "        print(\"Running on tpu\", tpu.master())\n",
    "    except ValueError:\n",
    "        tpu = None\n",
    "    if tpu:\n",
    "        tf.config.experimental_connect_to_cluster(tpu)\n",
    "        tf.tpu.experimental.initialize_tpu_system(tpu)\n",
    "        strategy = tf.discrete.experimental.TPUStrategy(tpu)\n",
    "    else:\n",
    "        strategy = tf.discrete.get_strategy(tpu)\n",
    "    print(\"REPLICAS: \", strategy.num_replicas_in_sync)\n",
    "    return strategy"
   ]
  }
 ],
 "metadata": {
  "kernelspec": {
   "display_name": "Python 3 (ipykernel)",
   "language": "python",
   "name": "python3"
  },
  "language_info": {
   "codemirror_mode": {
    "name": "ipython",
    "version": 3
   },
   "file_extension": ".py",
   "mimetype": "text/x-python",
   "name": "python",
   "nbconvert_exporter": "python",
   "pygments_lexer": "ipython3",
   "version": "3.10.7"
  }
 },
 "nbformat": 4,
 "nbformat_minor": 5
}
