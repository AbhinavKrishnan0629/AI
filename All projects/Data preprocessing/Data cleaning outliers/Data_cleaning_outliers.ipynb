{
 "cells": [
  {
   "cell_type": "code",
   "execution_count": 1,
   "id": "07e6f19a",
   "metadata": {},
   "outputs": [
    {
     "ename": "NameError",
     "evalue": "name 'library' is not defined",
     "output_type": "error",
     "traceback": [
      "\u001b[1;31m---------------------------------------------------------------------------\u001b[0m",
      "\u001b[1;31mNameError\u001b[0m                                 Traceback (most recent call last)",
      "Cell \u001b[1;32mIn [1], line 3\u001b[0m\n\u001b[0;32m      1\u001b[0m \u001b[38;5;28;01mimport\u001b[39;00m \u001b[38;5;21;01mpandas\u001b[39;00m \u001b[38;5;28;01mas\u001b[39;00m \u001b[38;5;21;01mpd\u001b[39;00m\n\u001b[0;32m      2\u001b[0m \u001b[38;5;28;01mimport\u001b[39;00m \u001b[38;5;21;01mnumpy\u001b[39;00m \u001b[38;5;28;01mas\u001b[39;00m \u001b[38;5;21;01mnp\u001b[39;00m\n\u001b[1;32m----> 3\u001b[0m library(tidyverse)\n\u001b[0;32m      4\u001b[0m library(outliers)\n",
      "\u001b[1;31mNameError\u001b[0m: name 'library' is not defined"
     ]
    }
   ],
   "source": [
    "import pandas as pd\n",
    "import numpy as np\n",
    "library(tidyverse)\n",
    "library(outliers)"
   ]
  },
  {
   "cell_type": "code",
<<<<<<< HEAD
   "execution_count": 1,
   "id": "ac54c037",
   "metadata": {},
   "outputs": [
    {
     "name": "stdout",
     "output_type": "stream",
     "text": [
      "poda naari\n"
     ]
    }
   ],
   "source": [
    "print(\"poda naari\")"
   ]
=======
   "execution_count": null,
   "id": "f91f00a7",
   "metadata": {},
   "outputs": [],
<<<<<<< HEAD
   "source": []
>>>>>>> db920671485fdba26b3d0e38a6bf5e0466949126
  },
  {
   "cell_type": "code",
   "execution_count": null,
   "id": "55d1f924",
   "metadata": {},
   "outputs": [],
   "source": []
=======
   "source": [
    "data = read_csv(\"A:\\Programming\\Python\\NLP\\Data files\\Data cleaning outliers\\deputies_dataset.csv\\deputies_dataset.csv\")"
   ]
>>>>>>> parent of 8d589cb (Box plot using seaborn)
  }
 ],
 "metadata": {
  "kernelspec": {
   "display_name": "Python 3 (ipykernel)",
   "language": "python",
   "name": "python3"
  },
  "language_info": {
   "codemirror_mode": {
    "name": "ipython",
    "version": 3
   },
   "file_extension": ".py",
   "mimetype": "text/x-python",
   "name": "python",
   "nbconvert_exporter": "python",
   "pygments_lexer": "ipython3",
   "version": "3.10.7"
  }
 },
 "nbformat": 4,
 "nbformat_minor": 5
}
